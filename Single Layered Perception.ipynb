{
 "cells": [
  {
   "cell_type": "code",
   "execution_count": 7,
   "metadata": {},
   "outputs": [
    {
     "ename": "SyntaxError",
     "evalue": "invalid syntax (<ipython-input-7-549b53e045d8>, line 6)",
     "output_type": "error",
     "traceback": [
      "\u001b[1;36m  File \u001b[1;32m\"<ipython-input-7-549b53e045d8>\"\u001b[1;36m, line \u001b[1;32m6\u001b[0m\n\u001b[1;33m    self.y=np.array(y)\u001b[0m\n\u001b[1;37m       ^\u001b[0m\n\u001b[1;31mSyntaxError\u001b[0m\u001b[1;31m:\u001b[0m invalid syntax\n"
     ]
    }
   ],
   "source": [
    "import numpy as np\n",
    "\n",
    "class slp:\n",
    "    def __init__(self,x,y,learning=0.03,Epoch=1000):\n",
    "        self.x=np.hstack((1,np.array(x))\n",
    "        self.y=np.array(y)\n",
    "        self.w=np.ones(self.x.shape[0])\n",
    "        self.Epoch=Epoch\n",
    "        self.LearningRate=learning\n",
    "    \n",
    "    def learn(self):\n",
    "        for i in range(self.Epoch):\n",
    "            deltaW=self.activate()\n",
    "            self.w=self.w+deltaW\n",
    "    \n",
    "    def activate(self):\n",
    "        y=(self.y - np.dot(self.w,self.x))*self.LearningRate\n",
    "        return y\n",
    "\n",
    "x=[[1,1],[1,0],[0,0],[0,1]]\n",
    "y=[1,0,0,0]\n",
    "s=slp(x,y)\n",
    "s.learn()\n",
    "print(s.w)"
   ]
  }
 ],
 "metadata": {
  "kernelspec": {
   "display_name": "Python 3",
   "language": "python",
   "name": "python3"
  },
  "language_info": {
   "codemirror_mode": {
    "name": "ipython",
    "version": 3
   },
   "file_extension": ".py",
   "mimetype": "text/x-python",
   "name": "python",
   "nbconvert_exporter": "python",
   "pygments_lexer": "ipython3",
   "version": "3.6.2"
  }
 },
 "nbformat": 4,
 "nbformat_minor": 2
}
